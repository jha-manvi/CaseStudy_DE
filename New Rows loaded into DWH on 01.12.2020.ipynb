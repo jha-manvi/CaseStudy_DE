{
 "cells": [
  {
   "cell_type": "code",
   "execution_count": 2,
   "id": "af5670b2",
   "metadata": {},
   "outputs": [],
   "source": [
    "import pandas as pd"
   ]
  },
  {
   "cell_type": "code",
   "execution_count": 3,
   "id": "99847abc",
   "metadata": {},
   "outputs": [],
   "source": [
    "df_nov_cntr = pd.read_csv('src_data/20201101230133_contracts.csv',sep=';');"
   ]
  },
  {
   "cell_type": "code",
   "execution_count": 4,
   "id": "301a4e95",
   "metadata": {},
   "outputs": [],
   "source": [
    "df_dec_cntr = pd.read_csv('src_data/20201201220059_contracts.csv',sep=';');"
   ]
  },
  {
   "cell_type": "code",
   "execution_count": 6,
   "id": "af28f394",
   "metadata": {},
   "outputs": [],
   "source": [
    "df1=pd.merge(df_dec_cntr,df_nov_cntr, indicator=True, how='outer').query('_merge==\"left_only\"').drop('_merge', axis=1)"
   ]
  },
  {
   "cell_type": "code",
   "execution_count": 13,
   "id": "1c89572c",
   "metadata": {},
   "outputs": [
    {
     "data": {
      "text/plain": [
       "2340"
      ]
     },
     "execution_count": 13,
     "metadata": {},
     "output_type": "execute_result"
    }
   ],
   "source": [
    "df1.shape[0]"
   ]
  },
  {
   "cell_type": "code",
   "execution_count": null,
   "id": "cfa97b6f",
   "metadata": {},
   "outputs": [],
   "source": []
  }
 ],
 "metadata": {
  "kernelspec": {
   "display_name": "Python 3",
   "language": "python",
   "name": "python3"
  },
  "language_info": {
   "codemirror_mode": {
    "name": "ipython",
    "version": 3
   },
   "file_extension": ".py",
   "mimetype": "text/x-python",
   "name": "python",
   "nbconvert_exporter": "python",
   "pygments_lexer": "ipython3",
   "version": "3.8.8"
  }
 },
 "nbformat": 4,
 "nbformat_minor": 5
}

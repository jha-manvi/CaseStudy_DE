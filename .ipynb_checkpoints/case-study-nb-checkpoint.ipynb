{
 "cells": [
  {
   "cell_type": "code",
   "execution_count": 1,
   "id": "2faa5332",
   "metadata": {},
   "outputs": [],
   "source": [
    "import pandas as pd"
   ]
  },
  {
   "cell_type": "code",
   "execution_count": 3,
   "id": "da6bc49e",
   "metadata": {},
   "outputs": [],
   "source": [
    "df_oct_prod = pd.read_csv('src_data/20201001220037_products.csv');"
   ]
  },
  {
   "cell_type": "code",
   "execution_count": 4,
   "id": "f8dcae88",
   "metadata": {},
   "outputs": [],
   "source": [
    "df_oct_price = pd.read_csv('src_data/20201001220039_prices.csv');"
   ]
  },
  {
   "cell_type": "code",
   "execution_count": 5,
   "id": "948e6619",
   "metadata": {},
   "outputs": [],
   "source": [
    "df_oct_cntr = pd.read_csv('src_data/20201001220144_contracts.csv')"
   ]
  },
  {
   "cell_type": "code",
   "execution_count": 6,
   "id": "46bc3901",
   "metadata": {},
   "outputs": [],
   "source": [
    "df_nov_prod = pd.read_csv('src_data/20201101220035_products.csv');\n",
    "df_nov_price = pd.read_csv('src_data/20201101220039_prices.csv');\n",
    "df_nov_cntr = pd.read_csv('src_data/20201101230133_contracts.csv');"
   ]
  },
  {
   "cell_type": "code",
   "execution_count": 7,
   "id": "0a77139b",
   "metadata": {},
   "outputs": [],
   "source": [
    "df_dec_prod = pd.read_csv('src_data/20201201220034_products.csv');\n",
    "df_dec_price = pd.read_csv('src_data/20201201220101_prices.csv');\n",
    "df_dec_cntr = pd.read_csv('src_data/20201201220059_contracts.csv');"
   ]
  },
  {
   "cell_type": "code",
   "execution_count": 8,
   "id": "c96dbc00",
   "metadata": {},
   "outputs": [],
   "source": [
    "df_jan_prod = pd.read_csv('src_data/20210101220045_products.csv');\n",
    "df_jan_price = pd.read_csv('src_data/20210101220057_prices.csv');\n",
    "df_jan_cntr = pd.read_csv('src_data/20210101220104_contracts.csv');"
   ]
  },
  {
   "cell_type": "code",
   "execution_count": null,
   "id": "afc710bc",
   "metadata": {},
   "outputs": [],
   "source": []
  }
 ],
 "metadata": {
  "kernelspec": {
   "display_name": "Python 3",
   "language": "python",
   "name": "python3"
  },
  "language_info": {
   "codemirror_mode": {
    "name": "ipython",
    "version": 3
   },
   "file_extension": ".py",
   "mimetype": "text/x-python",
   "name": "python",
   "nbconvert_exporter": "python",
   "pygments_lexer": "ipython3",
   "version": "3.8.8"
  }
 },
 "nbformat": 4,
 "nbformat_minor": 5
}
